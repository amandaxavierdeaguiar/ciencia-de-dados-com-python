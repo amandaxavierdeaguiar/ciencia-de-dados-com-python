{
  "nbformat": 4,
  "nbformat_minor": 0,
  "metadata": {
    "colab": {
      "provenance": [],
      "collapsed_sections": [
        "kNuP0SDUZMBY"
      ],
      "include_colab_link": true
    },
    "kernelspec": {
      "name": "python3",
      "display_name": "Python 3"
    },
    "language_info": {
      "name": "python"
    }
  },
  "cells": [
    {
      "cell_type": "markdown",
      "metadata": {
        "id": "view-in-github",
        "colab_type": "text"
      },
      "source": [
        "<a href=\"https://colab.research.google.com/github/amandaxavierdeaguiar/ciencia-de-dados-com-python/blob/main/Desafio_SantanderDevWeek2023.ipynb\" target=\"_parent\"><img src=\"https://colab.research.google.com/assets/colab-badge.svg\" alt=\"Open In Colab\"/></a>"
      ]
    },
    {
      "cell_type": "markdown",
      "source": [
        "# Santander Dev Week 2023 (ETL com Python)"
      ],
      "metadata": {
        "id": "BPJQsTCULaC-"
      }
    },
    {
      "cell_type": "markdown",
      "source": [
        "**Contexto:** Você é um cientista de dados no Santander e recebeu a tarefa de envolver seus clientes de maneira mais personalizada. Seu objetivo é usar o poder da IA Generativa para criar mensagens de marketing personalizadas que serão entregues a cada cliente.\n",
        "\n",
        "**Condições do Problema:**\n",
        "\n",
        "1. Você recebeu uma planilha simples, em formato CSV ('SDW2023.csv'), com uma lista de IDs de usuário do banco:\n",
        "  ```\n",
        "  UserID\n",
        "  1\n",
        "  2\n",
        "  3\n",
        "  4\n",
        "  5\n",
        "  ```\n",
        "2. Seu trabalho é consumir o endpoint `GET https://sdw-2023-prd.up.railway.app/users/{id}` (API da Santander Dev Week 2023) para obter os dados de cada cliente.\n",
        "3. Depois de obter os dados dos clientes, você vai usar a API do ChatGPT (OpenAI) para gerar uma mensagem de marketing personalizada para cada cliente. Essa mensagem deve enfatizar a importância dos investimentos.\n",
        "4. Uma vez que a mensagem para cada cliente esteja pronta, você vai enviar essas informações de volta para a API, atualizando a lista de \"news\" de cada usuário usando o endpoint `PUT https://sdw-2023-prd.up.railway.app/users/{id}`.\n",
        "\n"
      ],
      "metadata": {
        "id": "k5fA5OrXt1a3"
      }
    },
    {
      "cell_type": "code",
      "source": [
        "# Utilize sua própria URL se quiser ;)\n",
        "# Repositório da API: https://github.com/digitalinnovationone/santander-dev-week-2023-api\n",
        "sdw2023_api_url = 'https://sdw-2023-prd.up.railway.app'"
      ],
      "metadata": {
        "id": "FKqLC_CWoYqR"
      },
      "execution_count": null,
      "outputs": []
    },
    {
      "cell_type": "markdown",
      "source": [
        "## **E**xtract\n",
        "\n",
        "Extraia a lista de IDs de usuário a partir do arquivo CSV. Para cada ID, faça uma requisição GET para obter os dados do usuário correspondente."
      ],
      "metadata": {
        "id": "9dfI-o7gLRq9"
      }
    },
    {
      "cell_type": "code",
      "source": [],
      "metadata": {
        "id": "M51gPXfLYbpU"
      },
      "execution_count": null,
      "outputs": []
    },
    {
      "cell_type": "code",
      "execution_count": null,
      "metadata": {
        "id": "NYydpX_GLRCB",
        "outputId": "f25638bd-1f43-45e4-e758-608ee3a453d4",
        "colab": {
          "base_uri": "https://localhost:8080/"
        }
      },
      "outputs": [
        {
          "output_type": "stream",
          "name": "stdout",
          "text": [
            "[1, 2, 3, 4, 5]\n"
          ]
        }
      ],
      "source": [
        "import pandas as pd\n",
        "\n",
        "df = pd.read_csv('CLIENTES.csv')\n",
        "user_ids = df['UserID'].tolist()\n",
        "print(user_ids)"
      ]
    },
    {
      "cell_type": "code",
      "source": [
        "import pandas as pd\n",
        "\n",
        "Clientes_ids = df['UserID'].tolist()\n",
        "Clientes_nome = df['Nome'].tolist()\n",
        "Clientes_email = df['E-mail'].tolist()\n",
        "produto = df['Produto'].tolist()\n",
        "\n",
        "print(Clientes_ids)\n",
        "print(Clientes_nome)\n",
        "print(Clientes_email)\n",
        "print(produto)\n"
      ],
      "metadata": {
        "colab": {
          "base_uri": "https://localhost:8080/"
        },
        "id": "wkfe7qzFVoDJ",
        "outputId": "a64eff55-3986-4836-bafe-f125fb24e636"
      },
      "execution_count": null,
      "outputs": [
        {
          "output_type": "stream",
          "name": "stdout",
          "text": [
            "[1, 2, 3, 4, 5]\n",
            "['Bianca Incrivel', 'Andrea Maravilha', 'Aurelio Gentil', 'Adilson Querido', 'Irene Voinha']\n",
            "['biaincrivel@site.com', 'andreamaravilha@site.com', 'aureliogentil@site.com', 'adilsonquerido@site.com', 'voinha@site.com']\n",
            "['Jogo_Switch', 'T-Shirt Estampa', 'T-Shirt', 'Jogo_Switch', 'Computador']\n"
          ]
        }
      ]
    },
    {
      "cell_type": "markdown",
      "source": [
        "## **T**ransform\n",
        "\n",
        "Utilize a API do OpenAI GPT-4 para gerar uma mensagem de marketing personalizada para cada usuário."
      ],
      "metadata": {
        "id": "cWoqInB4TF1x"
      }
    },
    {
      "cell_type": "code",
      "source": [
        "# Descubrindo qual produto foi mais vendido\n",
        "produto_mais_comprado_por_cliente = df.groupby('Nome')['Produto'].apply(lambda x: x.value_counts().idxmax()).reset_index(name='Produto_Mais_Comprado')\n",
        "\n",
        "# Exibindo o resultado\n",
        "print(produto_mais_comprado_por_cliente)\n"
      ],
      "metadata": {
        "id": "j8ZwVjkYqyqT",
        "outputId": "15f82db7-52c3-40ce-8bf9-25e7130f46a8",
        "colab": {
          "base_uri": "https://localhost:8080/"
        }
      },
      "execution_count": null,
      "outputs": [
        {
          "output_type": "stream",
          "name": "stdout",
          "text": [
            "               Nome Produto_Mais_Comprado\n",
            "0   Adilson Querido           Jogo_Switch\n",
            "1  Andrea Maravilha       T-Shirt Estampa\n",
            "2    Aurelio Gentil               T-Shirt\n",
            "3   Bianca Incrivel           Jogo_Switch\n",
            "4      Irene Voinha            Computador\n"
          ]
        }
      ]
    },
    {
      "cell_type": "code",
      "source": [
        "# Função para criar as mensagens de marketing personalizadas\n",
        "def criar_mensagem(nome, grupo):\n",
        "    nome = grupo['Nome'].value_counts().idxmax()\n",
        "    produto_mais_comprado = grupo['Produto'].value_counts().idxmax()\n",
        "\n",
        "    mensagem = f\"Olá {nome},\\n\"\n",
        "    mensagem += f\"Com base no seu histórico de compras, recomendamos ofertas especiais em {produto_mais_comprado}.\\n\"\n",
        "    mensagem += \"Aproveite nossas promoções!\\n\"\n",
        "\n",
        "    return mensagem\n",
        "\n",
        "# Itera pelos grupos de clientes e imprime as mensagens para simular o envio de email.\n",
        "for nome, grupo in grupo_clientes:\n",
        "    nome = grupo['Nome'].value_counts().idxmax()\n",
        "    mensagem = criar_mensagem(nome, grupo)\n",
        "\n",
        "    # Obtém o e-mail do cliente\n",
        "    email_cliente = grupo['E-mail'].iloc[0]\n",
        "\n",
        "    # Simulando o envio, imprimindo a mensagem e o endereço de e-mail do cliente\n",
        "    print(f\"Enviando mensagem para o {nome} ({email_cliente}):\")\n",
        "    print(mensagem)\n",
        "    print(\"=\" * 40)  #separação entre os e-mails\n"
      ],
      "metadata": {
        "id": "D9_EEAoYrZLk",
        "outputId": "fea653bc-b509-45d3-ac6c-cc3327fd2219",
        "colab": {
          "base_uri": "https://localhost:8080/"
        }
      },
      "execution_count": null,
      "outputs": [
        {
          "output_type": "stream",
          "name": "stdout",
          "text": [
            "Enviando mensagem para o Bianca Incrivel (biaincrivel@site.com):\n",
            "Olá Bianca Incrivel,\n",
            "Com base no seu histórico de compras, recomendamos ofertas especiais em Jogo_Switch.\n",
            "Aproveite nossas promoções!\n",
            "\n",
            "========================================\n",
            "Enviando mensagem para o Andrea Maravilha (andreamaravilha@site.com):\n",
            "Olá Andrea Maravilha,\n",
            "Com base no seu histórico de compras, recomendamos ofertas especiais em T-Shirt Estampa.\n",
            "Aproveite nossas promoções!\n",
            "\n",
            "========================================\n",
            "Enviando mensagem para o Aurelio Gentil (aureliogentil@site.com):\n",
            "Olá Aurelio Gentil,\n",
            "Com base no seu histórico de compras, recomendamos ofertas especiais em T-Shirt.\n",
            "Aproveite nossas promoções!\n",
            "\n",
            "========================================\n",
            "Enviando mensagem para o Adilson Querido (adilsonquerido@site.com):\n",
            "Olá Adilson Querido,\n",
            "Com base no seu histórico de compras, recomendamos ofertas especiais em Jogo_Switch.\n",
            "Aproveite nossas promoções!\n",
            "\n",
            "========================================\n",
            "Enviando mensagem para o Irene Voinha (voinha@site.com):\n",
            "Olá Irene Voinha,\n",
            "Com base no seu histórico de compras, recomendamos ofertas especiais em Computador.\n",
            "Aproveite nossas promoções!\n",
            "\n",
            "========================================\n"
          ]
        }
      ]
    }
  ]
}